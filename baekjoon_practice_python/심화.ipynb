{
 "cells": [
  {
   "cell_type": "markdown",
   "metadata": {},
   "source": [
    "### 2942번"
   ]
  },
  {
   "cell_type": "code",
   "execution_count": null,
   "metadata": {},
   "outputs": [],
   "source": [
    "croatia = ['c=','c-','dz=','d-','lj','nj','s=','z=']\n",
    "word = input()\n",
    "for x in croatia:\n",
    "  if x in word:\n",
    "    word = word.replace(x,'a')\n",
    "print(len(word))\n",
    "\n",
    "# 풀고 나서보니 replace함수만을 이용해서 쉽게 풀 수 있는 문제였다.\n",
    "# 크로아티아 알파벳 리스트를 만들고, 입력받은 단어에 크로아티아 알파벳이 존재하면 이를 다른 알파벳(ex.'a')으로 대체한 뒤 단어의 길이를 구하여 답을 얻었다."
   ]
  },
  {
   "cell_type": "code",
   "execution_count": null,
   "metadata": {},
   "outputs": [],
   "source": []
  },
  {
   "cell_type": "code",
   "execution_count": null,
   "metadata": {},
   "outputs": [],
   "source": []
  },
  {
   "cell_type": "code",
   "execution_count": null,
   "metadata": {},
   "outputs": [],
   "source": []
  },
  {
   "cell_type": "markdown",
   "metadata": {},
   "source": []
  }
 ],
 "metadata": {
  "kernelspec": {
   "display_name": "Python 3",
   "language": "python",
   "name": "python3"
  },
  "language_info": {
   "name": "python",
   "version": "3.11.5"
  }
 },
 "nbformat": 4,
 "nbformat_minor": 2
}
